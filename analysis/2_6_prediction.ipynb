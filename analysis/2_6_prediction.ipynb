{
 "cells": [
  {
   "cell_type": "code",
   "execution_count": 40,
   "id": "f4015a16-1b01-4cfd-9779-1410ffe84944",
   "metadata": {},
   "outputs": [],
   "source": [
    "import pandas as pd\n",
    "import numpy as np\n",
    "import random\n",
    "import os\n",
    "import matplotlib.pyplot as plt\n",
    "import seaborn as sns\n",
    "\n",
    "from sklearn.model_selection import train_test_split\n",
    "from sklearn import metrics\n",
    "\n",
    "from sklearn.metrics import f1_score,confusion_matrix,accuracy_score,classification_report"
   ]
  },
  {
   "cell_type": "code",
   "execution_count": 41,
   "id": "1f06dfa0-c65d-48da-89f8-36de2573238b",
   "metadata": {},
   "outputs": [
    {
     "data": {
      "text/plain": [
       "(826155, 17)"
      ]
     },
     "execution_count": 41,
     "metadata": {},
     "output_type": "execute_result"
    }
   ],
   "source": [
    "df = pd.read_csv(\"../../data/classification_ready_data.csv\")\n",
    "\n",
    "df.shape"
   ]
  },
  {
   "cell_type": "code",
   "execution_count": 42,
   "id": "2539f93b-31cc-46ae-b004-5bc60f1cb043",
   "metadata": {},
   "outputs": [
    {
     "data": {
      "text/html": [
       "<div>\n",
       "<style scoped>\n",
       "    .dataframe tbody tr th:only-of-type {\n",
       "        vertical-align: middle;\n",
       "    }\n",
       "\n",
       "    .dataframe tbody tr th {\n",
       "        vertical-align: top;\n",
       "    }\n",
       "\n",
       "    .dataframe thead th {\n",
       "        text-align: right;\n",
       "    }\n",
       "</style>\n",
       "<table border=\"1\" class=\"dataframe\">\n",
       "  <thead>\n",
       "    <tr style=\"text-align: right;\">\n",
       "      <th></th>\n",
       "      <th>engine_capacity</th>\n",
       "      <th>vehicle_type</th>\n",
       "      <th>age_of_driver</th>\n",
       "      <th>longitude</th>\n",
       "      <th>latitude</th>\n",
       "      <th>cluster_1</th>\n",
       "      <th>day_of_year</th>\n",
       "      <th>rltv_hum</th>\n",
       "      <th>air_temperature</th>\n",
       "      <th>hour</th>\n",
       "      <th>wind_speed</th>\n",
       "      <th>wind_direction</th>\n",
       "      <th>ground_state_id</th>\n",
       "      <th>cld_ttl_amt_id</th>\n",
       "      <th>dewpoint</th>\n",
       "      <th>age_of_vehicle</th>\n",
       "      <th>accident</th>\n",
       "    </tr>\n",
       "  </thead>\n",
       "  <tbody>\n",
       "    <tr>\n",
       "      <th>177343</th>\n",
       "      <td>3496.0</td>\n",
       "      <td>2.0</td>\n",
       "      <td>26.0</td>\n",
       "      <td>-1.108609</td>\n",
       "      <td>53.518538</td>\n",
       "      <td>13373.0</td>\n",
       "      <td>130.0</td>\n",
       "      <td>70.000000</td>\n",
       "      <td>11.600000</td>\n",
       "      <td>10.0</td>\n",
       "      <td>13.000000</td>\n",
       "      <td>360.000000</td>\n",
       "      <td>4.000000</td>\n",
       "      <td>3.000000</td>\n",
       "      <td>6.400000</td>\n",
       "      <td>5.0</td>\n",
       "      <td>0.0</td>\n",
       "    </tr>\n",
       "    <tr>\n",
       "      <th>798562</th>\n",
       "      <td>1343.0</td>\n",
       "      <td>18.0</td>\n",
       "      <td>32.0</td>\n",
       "      <td>-0.757118</td>\n",
       "      <td>51.583036</td>\n",
       "      <td>23179.0</td>\n",
       "      <td>61.0</td>\n",
       "      <td>88.800000</td>\n",
       "      <td>-0.700000</td>\n",
       "      <td>21.0</td>\n",
       "      <td>3.000000</td>\n",
       "      <td>110.000000</td>\n",
       "      <td>1.000000</td>\n",
       "      <td>0.000000</td>\n",
       "      <td>-1.900000</td>\n",
       "      <td>12.0</td>\n",
       "      <td>0.0</td>\n",
       "    </tr>\n",
       "    <tr>\n",
       "      <th>80672</th>\n",
       "      <td>2497.0</td>\n",
       "      <td>9.0</td>\n",
       "      <td>19.0</td>\n",
       "      <td>-1.746403</td>\n",
       "      <td>52.379123</td>\n",
       "      <td>36814.0</td>\n",
       "      <td>224.0</td>\n",
       "      <td>84.900000</td>\n",
       "      <td>13.400000</td>\n",
       "      <td>16.0</td>\n",
       "      <td>10.000000</td>\n",
       "      <td>10.000000</td>\n",
       "      <td>0.000000</td>\n",
       "      <td>8.000000</td>\n",
       "      <td>10.900000</td>\n",
       "      <td>8.0</td>\n",
       "      <td>1.0</td>\n",
       "    </tr>\n",
       "    <tr>\n",
       "      <th>787011</th>\n",
       "      <td>1958.0</td>\n",
       "      <td>18.0</td>\n",
       "      <td>67.0</td>\n",
       "      <td>-1.218724</td>\n",
       "      <td>54.665273</td>\n",
       "      <td>14551.0</td>\n",
       "      <td>305.0</td>\n",
       "      <td>93.305104</td>\n",
       "      <td>9.578138</td>\n",
       "      <td>22.0</td>\n",
       "      <td>13.426373</td>\n",
       "      <td>220.509627</td>\n",
       "      <td>8.210837</td>\n",
       "      <td>7.245690</td>\n",
       "      <td>8.482980</td>\n",
       "      <td>11.0</td>\n",
       "      <td>0.0</td>\n",
       "    </tr>\n",
       "    <tr>\n",
       "      <th>793498</th>\n",
       "      <td>1400.0</td>\n",
       "      <td>9.0</td>\n",
       "      <td>60.0</td>\n",
       "      <td>-3.727957</td>\n",
       "      <td>53.295053</td>\n",
       "      <td>29768.0</td>\n",
       "      <td>327.0</td>\n",
       "      <td>91.598581</td>\n",
       "      <td>5.734909</td>\n",
       "      <td>11.0</td>\n",
       "      <td>6.306245</td>\n",
       "      <td>202.560757</td>\n",
       "      <td>9.996251</td>\n",
       "      <td>3.499413</td>\n",
       "      <td>4.428047</td>\n",
       "      <td>5.0</td>\n",
       "      <td>1.0</td>\n",
       "    </tr>\n",
       "    <tr>\n",
       "      <th>242641</th>\n",
       "      <td>1120.0</td>\n",
       "      <td>9.0</td>\n",
       "      <td>18.0</td>\n",
       "      <td>-2.975955</td>\n",
       "      <td>53.394548</td>\n",
       "      <td>7874.0</td>\n",
       "      <td>56.0</td>\n",
       "      <td>72.900000</td>\n",
       "      <td>8.300000</td>\n",
       "      <td>15.0</td>\n",
       "      <td>4.000000</td>\n",
       "      <td>300.000000</td>\n",
       "      <td>6.422721</td>\n",
       "      <td>4.000000</td>\n",
       "      <td>3.700000</td>\n",
       "      <td>10.0</td>\n",
       "      <td>1.0</td>\n",
       "    </tr>\n",
       "  </tbody>\n",
       "</table>\n",
       "</div>"
      ],
      "text/plain": [
       "        engine_capacity  vehicle_type  age_of_driver  longitude   latitude  \\\n",
       "177343           3496.0           2.0           26.0  -1.108609  53.518538   \n",
       "798562           1343.0          18.0           32.0  -0.757118  51.583036   \n",
       "80672            2497.0           9.0           19.0  -1.746403  52.379123   \n",
       "787011           1958.0          18.0           67.0  -1.218724  54.665273   \n",
       "793498           1400.0           9.0           60.0  -3.727957  53.295053   \n",
       "242641           1120.0           9.0           18.0  -2.975955  53.394548   \n",
       "\n",
       "        cluster_1  day_of_year   rltv_hum  air_temperature  hour  wind_speed  \\\n",
       "177343    13373.0        130.0  70.000000        11.600000  10.0   13.000000   \n",
       "798562    23179.0         61.0  88.800000        -0.700000  21.0    3.000000   \n",
       "80672     36814.0        224.0  84.900000        13.400000  16.0   10.000000   \n",
       "787011    14551.0        305.0  93.305104         9.578138  22.0   13.426373   \n",
       "793498    29768.0        327.0  91.598581         5.734909  11.0    6.306245   \n",
       "242641     7874.0         56.0  72.900000         8.300000  15.0    4.000000   \n",
       "\n",
       "        wind_direction  ground_state_id  cld_ttl_amt_id   dewpoint  \\\n",
       "177343      360.000000         4.000000        3.000000   6.400000   \n",
       "798562      110.000000         1.000000        0.000000  -1.900000   \n",
       "80672        10.000000         0.000000        8.000000  10.900000   \n",
       "787011      220.509627         8.210837        7.245690   8.482980   \n",
       "793498      202.560757         9.996251        3.499413   4.428047   \n",
       "242641      300.000000         6.422721        4.000000   3.700000   \n",
       "\n",
       "        age_of_vehicle  accident  \n",
       "177343             5.0       0.0  \n",
       "798562            12.0       0.0  \n",
       "80672              8.0       1.0  \n",
       "787011            11.0       0.0  \n",
       "793498             5.0       1.0  \n",
       "242641            10.0       1.0  "
      ]
     },
     "execution_count": 42,
     "metadata": {},
     "output_type": "execute_result"
    }
   ],
   "source": [
    "df.sample(6)"
   ]
  },
  {
   "cell_type": "code",
   "execution_count": 43,
   "id": "5a5b8bc6-e4fa-4281-82fa-5efa7a276c44",
   "metadata": {},
   "outputs": [
    {
     "data": {
      "text/plain": [
       "Index(['engine_capacity', 'vehicle_type', 'age_of_driver', 'longitude',\n",
       "       'latitude', 'cluster_1', 'day_of_year', 'rltv_hum', 'air_temperature',\n",
       "       'hour', 'wind_speed', 'wind_direction', 'ground_state_id',\n",
       "       'cld_ttl_amt_id', 'dewpoint', 'age_of_vehicle', 'accident'],\n",
       "      dtype='object')"
      ]
     },
     "execution_count": 43,
     "metadata": {},
     "output_type": "execute_result"
    }
   ],
   "source": [
    "df.columns"
   ]
  },
  {
   "cell_type": "markdown",
   "id": "1016878a-8fc3-40a4-8237-5f452c67f41d",
   "metadata": {},
   "source": [
    "### data split"
   ]
  },
  {
   "cell_type": "code",
   "execution_count": 44,
   "id": "6ba79827-9afe-4f8a-9fd5-12844ec3b467",
   "metadata": {},
   "outputs": [
    {
     "name": "stdout",
     "output_type": "stream",
     "text": [
      "X_train dimension =  (578308, 16)\n",
      "X_test  dimension =  (247847, 16)\n",
      "y_train dimension =  (578308,)\n",
      "y_train dimension =  (247847,)\n"
     ]
    }
   ],
   "source": [
    "all_feature_cols = list(df.columns)\n",
    "all_feature_cols.remove('accident')\n",
    "\n",
    "X = df[all_feature_cols] \n",
    "y = df['accident']\n",
    "\n",
    "# data splitting\n",
    "X_train, X_test, y_train, y_test = train_test_split(X, y, test_size=0.3, random_state=0)\n",
    "\n",
    "print('X_train dimension = ', X_train.shape)\n",
    "print('X_test  dimension = ', X_test.shape)\n",
    "print('y_train dimension = ', y_train.shape)\n",
    "print('y_train dimension = ', y_test.shape)"
   ]
  },
  {
   "cell_type": "markdown",
   "id": "bac62046-f720-4496-b468-37af4c813555",
   "metadata": {},
   "source": [
    "### Logistic Regression"
   ]
  },
  {
   "cell_type": "code",
   "execution_count": 45,
   "id": "f3c0f099-ea2e-4841-8df5-f30c3a7c1f3e",
   "metadata": {},
   "outputs": [
    {
     "data": {
      "text/plain": [
       "LogisticRegression(max_iter=120000)"
      ]
     },
     "execution_count": 45,
     "metadata": {},
     "output_type": "execute_result"
    }
   ],
   "source": [
    "from sklearn.linear_model import LogisticRegression\n",
    "\n",
    "model_logreg = LogisticRegression(dual=False, max_iter=120000)\n",
    "model_logreg.fit(X_train, y_train)"
   ]
  },
  {
   "cell_type": "code",
   "execution_count": 46,
   "id": "5dffb58b-769b-4a25-b10c-b5f86bcea820",
   "metadata": {},
   "outputs": [
    {
     "name": "stdout",
     "output_type": "stream",
     "text": [
      "Accuracy [LOG REG]: 0.7457382982243077\n"
     ]
    }
   ],
   "source": [
    "y_pred = model_logreg.predict(X_test)\n",
    "print(\"Accuracy [LOG REG]:\",metrics.accuracy_score(y_test, y_pred))\n",
    "# print('Accuracy of logistic regression classifier on test set: {:.2f}'.format(logreg.score(X_test, y_test)))"
   ]
  },
  {
   "cell_type": "code",
   "execution_count": 47,
   "id": "68de185f-87cd-405c-8891-fa923db866b8",
   "metadata": {},
   "outputs": [
    {
     "name": "stdout",
     "output_type": "stream",
     "text": [
      "              precision    recall  f1-score   support\n",
      "\n",
      "         0.0       0.79      0.59      0.68    112651\n",
      "         1.0       0.72      0.87      0.79    135196\n",
      "\n",
      "    accuracy                           0.75    247847\n",
      "   macro avg       0.76      0.73      0.73    247847\n",
      "weighted avg       0.75      0.75      0.74    247847\n",
      "\n"
     ]
    },
    {
     "data": {
      "image/png": "[encoded data removed]",
      "text/plain": [
       "<Figure size 720x432 with 2 Axes>"
      ]
     },
     "metadata": {
      "needs_background": "light"
     },
     "output_type": "display_data"
    }
   ],
   "source": [
    "fig, ax = plt.subplots(figsize=(10, 6))\n",
    "ax.set_title('Confusion Matrx [LOG REG]')\n",
    "disp =metrics.plot_confusion_matrix(model_logreg, X_test, y_test, ax = ax)\n",
    "disp.confusion_matrix\n",
    "print(metrics.classification_report(y_test, y_pred))"
   ]
  },
  {
   "cell_type": "markdown",
   "id": "ad5de1aa-3110-44ca-9234-9c6e11be4e7d",
   "metadata": {},
   "source": [
    "### SVM"
   ]
  },
  {
   "cell_type": "code",
   "execution_count": null,
   "id": "316df2e4-99ba-471f-90a0-d3dedf1cbe69",
   "metadata": {},
   "outputs": [],
   "source": [
    "from sklearn.svm import SVC\n",
    "\n",
    "model_svm = SVC()\n",
    "model_svm.fit(X_train,y_train)"
   ]
  },
  {
   "cell_type": "code",
   "execution_count": null,
   "id": "027537ba-0a2b-4d19-99cc-361f7eb2d7f9",
   "metadata": {},
   "outputs": [],
   "source": [
    "y_pred = model_svm.predict(X_test)\n",
    "print(\"Accuracy [SVM]:\",metrics.accuracy_score(y_test, y_pred))"
   ]
  },
  {
   "cell_type": "code",
   "execution_count": null,
   "id": "a25a3997-6f64-44fa-bba5-8dd2e21ccff3",
   "metadata": {},
   "outputs": [],
   "source": [
    "fig, ax = plt.subplots(figsize=(10, 6))\n",
    "ax.set_title('Confusion Matrx [SVM]')\n",
    "disp =metrics.plot_confusion_matrix(model_svm, X_test, y_test, ax = ax)\n",
    "disp.confusion_matrix\n",
    "print(metrics.classification_report(y_test, y_pred))"
   ]
  },
  {
   "cell_type": "markdown",
   "id": "353b7b31-4f5a-46fe-a062-95001f9ff3ab",
   "metadata": {},
   "source": [
    "### Random Forest Classifier"
   ]
  },
  {
   "cell_type": "code",
   "execution_count": 48,
   "id": "2bb3a8c6-e93b-4a94-9126-b229bd1ba32d",
   "metadata": {},
   "outputs": [
    {
     "data": {
      "text/plain": [
       "RandomForestClassifier(random_state=43)"
      ]
     },
     "execution_count": 48,
     "metadata": {},
     "output_type": "execute_result"
    }
   ],
   "source": [
    "from sklearn.ensemble import RandomForestClassifier\n",
    "\n",
    "#random forest classifier with n_estimators=10 (default)\n",
    "model_rf = RandomForestClassifier(random_state=43)      \n",
    "model_rf.fit(X_train,y_train)"
   ]
  },
  {
   "cell_type": "code",
   "execution_count": 49,
   "id": "73c929b0-2cf2-47b9-92fe-e76ff734c035",
   "metadata": {},
   "outputs": [
    {
     "name": "stdout",
     "output_type": "stream",
     "text": [
      "Accuracy [RFC]: 0.9694529286212865\n"
     ]
    }
   ],
   "source": [
    "y_pred = model_rf.predict(X_test)\n",
    "print(\"Accuracy [RFC]:\",metrics.accuracy_score(y_test, y_pred))"
   ]
  },
  {
   "cell_type": "code",
   "execution_count": 50,
   "id": "5f46162f-c4cd-4470-918d-42617876e9f4",
   "metadata": {},
   "outputs": [
    {
     "name": "stdout",
     "output_type": "stream",
     "text": [
      "              precision    recall  f1-score   support\n",
      "\n",
      "         0.0       0.97      0.96      0.97    112651\n",
      "         1.0       0.97      0.98      0.97    135196\n",
      "\n",
      "    accuracy                           0.97    247847\n",
      "   macro avg       0.97      0.97      0.97    247847\n",
      "weighted avg       0.97      0.97      0.97    247847\n",
      "\n"
     ]
    },
    {
     "data": {
      "image/png": "[encoded data removed]",
      "text/plain": [
       "<Figure size 720x432 with 2 Axes>"
      ]
     },
     "metadata": {
      "needs_background": "light"
     },
     "output_type": "display_data"
    }
   ],
   "source": [
    "fig, ax = plt.subplots(figsize=(10, 6))\n",
    "ax.set_title('Confusion Matrx [RFC]')\n",
    "disp =metrics.plot_confusion_matrix(model_rf, X_test, y_test, ax = ax)\n",
    "disp.confusion_matrix\n",
    "print(metrics.classification_report(y_test, y_pred))"
   ]
  },
  {
   "cell_type": "markdown",
   "id": "5cb5e9c6-44a7-48c3-ac9a-5abbae40efda",
   "metadata": {},
   "source": [
    "### Decision Tree "
   ]
  },
  {
   "cell_type": "code",
   "execution_count": 51,
   "id": "eb75be52-d9cc-42e5-9549-c36c647febfc",
   "metadata": {},
   "outputs": [
    {
     "data": {
      "text/plain": [
       "DecisionTreeClassifier()"
      ]
     },
     "execution_count": 51,
     "metadata": {},
     "output_type": "execute_result"
    }
   ],
   "source": [
    "from sklearn.tree import DecisionTreeClassifier\n",
    "\n",
    "model_dt_clf_1 = DecisionTreeClassifier()\n",
    "model_dt_clf_1.fit(X_train,y_train)"
   ]
  },
  {
   "cell_type": "code",
   "execution_count": 52,
   "id": "e85ed342-702a-4ed9-a3c6-9370d9ddff0c",
   "metadata": {},
   "outputs": [
    {
     "name": "stdout",
     "output_type": "stream",
     "text": [
      "Accuracy [Decision Tree (gini)]: 0.9638728731838594\n"
     ]
    }
   ],
   "source": [
    "y_pred = model_dt_clf_1.predict(X_test)\n",
    "print(\"Accuracy [Decision Tree (gini)]:\",metrics.accuracy_score(y_test, y_pred))"
   ]
  },
  {
   "cell_type": "code",
   "execution_count": 53,
   "id": "20aa7d12-17d3-411c-b9a3-0d9e9d6d45df",
   "metadata": {},
   "outputs": [
    {
     "name": "stdout",
     "output_type": "stream",
     "text": [
      "              precision    recall  f1-score   support\n",
      "\n",
      "         0.0       0.96      0.96      0.96    112651\n",
      "         1.0       0.97      0.97      0.97    135196\n",
      "\n",
      "    accuracy                           0.96    247847\n",
      "   macro avg       0.96      0.96      0.96    247847\n",
      "weighted avg       0.96      0.96      0.96    247847\n",
      "\n"
     ]
    },
    {
     "data": {
      "image/png": "[encoded data removed]",
      "text/plain": [
       "<Figure size 720x432 with 2 Axes>"
      ]
     },
     "metadata": {
      "needs_background": "light"
     },
     "output_type": "display_data"
    }
   ],
   "source": [
    "fig, ax = plt.subplots(figsize=(10, 6))\n",
    "ax.set_title('Confusion Matrx [Decision Tree (gini)]')\n",
    "disp =metrics.plot_confusion_matrix(model_dt_clf_1, X_test, y_test, ax = ax)\n",
    "disp.confusion_matrix\n",
    "print(metrics.classification_report(y_test, y_pred))"
   ]
  },
  {
   "cell_type": "code",
   "execution_count": 54,
   "id": "b85f77fb-5be8-4f7c-8867-11dc666d67ef",
   "metadata": {},
   "outputs": [],
   "source": [
    "model_dt_clf_2 = DecisionTreeClassifier(criterion=\"entropy\", max_depth=3)\n",
    "model_dt_clf_2 = model_dt_clf_2.fit(X_train,y_train)"
   ]
  },
  {
   "cell_type": "code",
   "execution_count": 55,
   "id": "befda16d-bd3b-467b-9489-f1def4615afa",
   "metadata": {},
   "outputs": [
    {
     "name": "stdout",
     "output_type": "stream",
     "text": [
      "Accuracy [Decision Tree (entropy)]: 0.8560603920967371\n"
     ]
    }
   ],
   "source": [
    "y_pred = model_dt_clf_2.predict(X_test)\n",
    "print(\"Accuracy [Decision Tree (entropy)]:\",metrics.accuracy_score(y_test, y_pred))"
   ]
  },
  {
   "cell_type": "code",
   "execution_count": 56,
   "id": "a3fcfe6f-d5bd-4d6e-8fea-57fc2d8f9dd8",
   "metadata": {},
   "outputs": [
    {
     "name": "stdout",
     "output_type": "stream",
     "text": [
      "              precision    recall  f1-score   support\n",
      "\n",
      "         0.0       0.77      0.96      0.86    112651\n",
      "         1.0       0.96      0.77      0.85    135196\n",
      "\n",
      "    accuracy                           0.86    247847\n",
      "   macro avg       0.87      0.86      0.86    247847\n",
      "weighted avg       0.88      0.86      0.86    247847\n",
      "\n"
     ]
    },
    {
     "data": {
      "image/png": "[encoded data removed]",
      "text/plain": [
       "<Figure size 720x432 with 2 Axes>"
      ]
     },
     "metadata": {
      "needs_background": "light"
     },
     "output_type": "display_data"
    }
   ],
   "source": [
    "fig, ax = plt.subplots(figsize=(10, 6))\n",
    "ax.set_title('Confusion Matrx [Decision Tree (entropy)]')\n",
    "disp =metrics.plot_confusion_matrix(model_dt_clf_2, X_test, y_test, ax = ax)\n",
    "disp.confusion_matrix\n",
    "print(metrics.classification_report(y_test, y_pred))"
   ]
  },
  {
   "cell_type": "markdown",
   "id": "13b3d4e4-874c-4c46-8cd6-fd725d3bfd51",
   "metadata": {},
   "source": [
    "# output\n",
    "\n",
    "Random Forest Classifier and Decision Tree with gini criterion have higher accuracy >96"
   ]
  },
  {
   "cell_type": "code",
   "execution_count": 57,
   "id": "9b80256b-50f6-4b4b-8d12-3d64ba69accd",
   "metadata": {},
   "outputs": [
    {
     "data": {
      "text/plain": [
       "['./models/dt_v2.compressed']"
      ]
     },
     "execution_count": 57,
     "metadata": {},
     "output_type": "execute_result"
    }
   ],
   "source": [
    "# import pickle\n",
    "\n",
    "import joblib  # it may be better to use joblib’s replacement of pickle \n",
    "\n",
    "\n",
    "# serialize models\n",
    "\n",
    "# pickle.dump(model_rf, open('./models/rf_v1.model', 'wb'))\n",
    "# pickle.dump(model_dt_clf_1, open('./models/dt_v1.model', 'wb'))\n",
    "\n",
    "# compress pickles as random forest model is too large\n",
    "joblib.dump(model_rf, './models/rf_v2.compressed', compress=('zlib',9))\n",
    "joblib.dump(model_dt_clf_1, './models/dt_v2.compressed', compress=('zlib',1))\n"
   ]
  },
  {
   "cell_type": "code",
   "execution_count": 58,
   "id": "56eafd48-aa6b-4a6e-ac9d-1634720d990f",
   "metadata": {},
   "outputs": [
    {
     "data": {
      "text/plain": [
       "['./models/record_v2.template']"
      ]
     },
     "execution_count": 58,
     "metadata": {},
     "output_type": "execute_result"
    }
   ],
   "source": [
    "record_template = df.head(1)\n",
    "record_template = record_template.drop(['accident'], axis=1)\n",
    "record_template.loc[0,record_template.columns] = np.nan\n",
    "joblib.dump(record_template, \"./models/record_v2.template\")"
   ]
  },
  {
   "cell_type": "markdown",
   "id": "c792e877-8b00-4d22-8bb1-51e808f3a296",
   "metadata": {},
   "source": [
    "Get some data for usit testing"
   ]
  },
  {
   "cell_type": "code",
   "execution_count": 59,
   "id": "62c598ea-dfa9-4e2d-a199-7c82e405d4bc",
   "metadata": {},
   "outputs": [
    {
     "data": {
      "text/html": [
       "<div>\n",
       "<style scoped>\n",
       "    .dataframe tbody tr th:only-of-type {\n",
       "        vertical-align: middle;\n",
       "    }\n",
       "\n",
       "    .dataframe tbody tr th {\n",
       "        vertical-align: top;\n",
       "    }\n",
       "\n",
       "    .dataframe thead th {\n",
       "        text-align: right;\n",
       "    }\n",
       "</style>\n",
       "<table border=\"1\" class=\"dataframe\">\n",
       "  <thead>\n",
       "    <tr style=\"text-align: right;\">\n",
       "      <th></th>\n",
       "      <th>engine_capacity</th>\n",
       "      <th>vehicle_type</th>\n",
       "      <th>age_of_driver</th>\n",
       "      <th>longitude</th>\n",
       "      <th>latitude</th>\n",
       "      <th>cluster_1</th>\n",
       "      <th>day_of_year</th>\n",
       "      <th>rltv_hum</th>\n",
       "      <th>air_temperature</th>\n",
       "      <th>hour</th>\n",
       "      <th>wind_speed</th>\n",
       "      <th>wind_direction</th>\n",
       "      <th>ground_state_id</th>\n",
       "      <th>cld_ttl_amt_id</th>\n",
       "      <th>dewpoint</th>\n",
       "      <th>age_of_vehicle</th>\n",
       "      <th>accident</th>\n",
       "    </tr>\n",
       "  </thead>\n",
       "  <tbody>\n",
       "    <tr>\n",
       "      <th>131044</th>\n",
       "      <td>1392.0</td>\n",
       "      <td>9.0</td>\n",
       "      <td>59.0</td>\n",
       "      <td>-1.455565</td>\n",
       "      <td>53.419588</td>\n",
       "      <td>13739.0</td>\n",
       "      <td>241.0</td>\n",
       "      <td>60.500000</td>\n",
       "      <td>12.200000</td>\n",
       "      <td>20.0</td>\n",
       "      <td>0.000000</td>\n",
       "      <td>0.000000</td>\n",
       "      <td>1.000000</td>\n",
       "      <td>8.000000</td>\n",
       "      <td>4.800000</td>\n",
       "      <td>13.0</td>\n",
       "      <td>1.0</td>\n",
       "    </tr>\n",
       "    <tr>\n",
       "      <th>785808</th>\n",
       "      <td>1744.0</td>\n",
       "      <td>19.0</td>\n",
       "      <td>11.0</td>\n",
       "      <td>-2.169272</td>\n",
       "      <td>53.388529</td>\n",
       "      <td>34395.0</td>\n",
       "      <td>57.0</td>\n",
       "      <td>84.400000</td>\n",
       "      <td>5.900000</td>\n",
       "      <td>2.0</td>\n",
       "      <td>8.000000</td>\n",
       "      <td>270.000000</td>\n",
       "      <td>9.966551</td>\n",
       "      <td>7.000000</td>\n",
       "      <td>3.600000</td>\n",
       "      <td>6.0</td>\n",
       "      <td>0.0</td>\n",
       "    </tr>\n",
       "    <tr>\n",
       "      <th>620978</th>\n",
       "      <td>1390.0</td>\n",
       "      <td>9.0</td>\n",
       "      <td>35.0</td>\n",
       "      <td>-2.241664</td>\n",
       "      <td>53.480179</td>\n",
       "      <td>8191.0</td>\n",
       "      <td>177.0</td>\n",
       "      <td>54.800000</td>\n",
       "      <td>23.600000</td>\n",
       "      <td>12.0</td>\n",
       "      <td>5.000000</td>\n",
       "      <td>180.000000</td>\n",
       "      <td>8.176260</td>\n",
       "      <td>7.831439</td>\n",
       "      <td>13.900000</td>\n",
       "      <td>1.0</td>\n",
       "      <td>1.0</td>\n",
       "    </tr>\n",
       "    <tr>\n",
       "      <th>311918</th>\n",
       "      <td>1956.0</td>\n",
       "      <td>5.0</td>\n",
       "      <td>50.0</td>\n",
       "      <td>0.058304</td>\n",
       "      <td>51.424728</td>\n",
       "      <td>2807.0</td>\n",
       "      <td>279.0</td>\n",
       "      <td>88.560965</td>\n",
       "      <td>10.357754</td>\n",
       "      <td>18.0</td>\n",
       "      <td>9.843865</td>\n",
       "      <td>200.474360</td>\n",
       "      <td>8.210765</td>\n",
       "      <td>4.203921</td>\n",
       "      <td>8.502210</td>\n",
       "      <td>3.0</td>\n",
       "      <td>0.0</td>\n",
       "    </tr>\n",
       "    <tr>\n",
       "      <th>703464</th>\n",
       "      <td>2874.0</td>\n",
       "      <td>97.0</td>\n",
       "      <td>85.0</td>\n",
       "      <td>-4.063975</td>\n",
       "      <td>51.745943</td>\n",
       "      <td>30490.0</td>\n",
       "      <td>253.0</td>\n",
       "      <td>87.026141</td>\n",
       "      <td>12.184421</td>\n",
       "      <td>0.0</td>\n",
       "      <td>11.420053</td>\n",
       "      <td>284.307115</td>\n",
       "      <td>6.419857</td>\n",
       "      <td>5.746491</td>\n",
       "      <td>10.080334</td>\n",
       "      <td>9.0</td>\n",
       "      <td>0.0</td>\n",
       "    </tr>\n",
       "    <tr>\n",
       "      <th>137488</th>\n",
       "      <td>998.0</td>\n",
       "      <td>9.0</td>\n",
       "      <td>31.0</td>\n",
       "      <td>-1.473296</td>\n",
       "      <td>53.360611</td>\n",
       "      <td>13918.0</td>\n",
       "      <td>8.0</td>\n",
       "      <td>88.837741</td>\n",
       "      <td>3.294956</td>\n",
       "      <td>15.0</td>\n",
       "      <td>14.142973</td>\n",
       "      <td>237.738527</td>\n",
       "      <td>7.500547</td>\n",
       "      <td>1.950249</td>\n",
       "      <td>1.850426</td>\n",
       "      <td>1.0</td>\n",
       "      <td>1.0</td>\n",
       "    </tr>\n",
       "    <tr>\n",
       "      <th>103151</th>\n",
       "      <td>1590.0</td>\n",
       "      <td>9.0</td>\n",
       "      <td>35.0</td>\n",
       "      <td>1.374845</td>\n",
       "      <td>52.110725</td>\n",
       "      <td>45579.0</td>\n",
       "      <td>218.0</td>\n",
       "      <td>95.836695</td>\n",
       "      <td>12.266298</td>\n",
       "      <td>8.0</td>\n",
       "      <td>7.780124</td>\n",
       "      <td>213.816267</td>\n",
       "      <td>9.967635</td>\n",
       "      <td>4.370944</td>\n",
       "      <td>11.606114</td>\n",
       "      <td>4.0</td>\n",
       "      <td>1.0</td>\n",
       "    </tr>\n",
       "    <tr>\n",
       "      <th>543968</th>\n",
       "      <td>119.0</td>\n",
       "      <td>16.0</td>\n",
       "      <td>38.0</td>\n",
       "      <td>-0.123377</td>\n",
       "      <td>51.568425</td>\n",
       "      <td>702.0</td>\n",
       "      <td>162.0</td>\n",
       "      <td>90.645909</td>\n",
       "      <td>12.769869</td>\n",
       "      <td>12.0</td>\n",
       "      <td>13.756563</td>\n",
       "      <td>284.805862</td>\n",
       "      <td>8.207511</td>\n",
       "      <td>7.975361</td>\n",
       "      <td>11.229344</td>\n",
       "      <td>12.0</td>\n",
       "      <td>0.0</td>\n",
       "    </tr>\n",
       "    <tr>\n",
       "      <th>30781</th>\n",
       "      <td>1679.0</td>\n",
       "      <td>9.0</td>\n",
       "      <td>37.0</td>\n",
       "      <td>-2.004398</td>\n",
       "      <td>52.614487</td>\n",
       "      <td>15789.0</td>\n",
       "      <td>321.0</td>\n",
       "      <td>98.600000</td>\n",
       "      <td>9.200000</td>\n",
       "      <td>10.0</td>\n",
       "      <td>8.494024</td>\n",
       "      <td>160.423585</td>\n",
       "      <td>6.419979</td>\n",
       "      <td>7.985855</td>\n",
       "      <td>9.000000</td>\n",
       "      <td>12.0</td>\n",
       "      <td>1.0</td>\n",
       "    </tr>\n",
       "    <tr>\n",
       "      <th>555198</th>\n",
       "      <td>4500.0</td>\n",
       "      <td>11.0</td>\n",
       "      <td>31.0</td>\n",
       "      <td>-0.032725</td>\n",
       "      <td>51.512354</td>\n",
       "      <td>1260.0</td>\n",
       "      <td>221.0</td>\n",
       "      <td>86.376058</td>\n",
       "      <td>13.867414</td>\n",
       "      <td>10.0</td>\n",
       "      <td>11.617130</td>\n",
       "      <td>285.795727</td>\n",
       "      <td>6.419979</td>\n",
       "      <td>7.822546</td>\n",
       "      <td>11.561640</td>\n",
       "      <td>4.0</td>\n",
       "      <td>1.0</td>\n",
       "    </tr>\n",
       "  </tbody>\n",
       "</table>\n",
       "</div>"
      ],
      "text/plain": [
       "        engine_capacity  vehicle_type  age_of_driver  longitude   latitude  \\\n",
       "131044           1392.0           9.0           59.0  -1.455565  53.419588   \n",
       "785808           1744.0          19.0           11.0  -2.169272  53.388529   \n",
       "620978           1390.0           9.0           35.0  -2.241664  53.480179   \n",
       "311918           1956.0           5.0           50.0   0.058304  51.424728   \n",
       "703464           2874.0          97.0           85.0  -4.063975  51.745943   \n",
       "137488            998.0           9.0           31.0  -1.473296  53.360611   \n",
       "103151           1590.0           9.0           35.0   1.374845  52.110725   \n",
       "543968            119.0          16.0           38.0  -0.123377  51.568425   \n",
       "30781            1679.0           9.0           37.0  -2.004398  52.614487   \n",
       "555198           4500.0          11.0           31.0  -0.032725  51.512354   \n",
       "\n",
       "        cluster_1  day_of_year   rltv_hum  air_temperature  hour  wind_speed  \\\n",
       "131044    13739.0        241.0  60.500000        12.200000  20.0    0.000000   \n",
       "785808    34395.0         57.0  84.400000         5.900000   2.0    8.000000   \n",
       "620978     8191.0        177.0  54.800000        23.600000  12.0    5.000000   \n",
       "311918     2807.0        279.0  88.560965        10.357754  18.0    9.843865   \n",
       "703464    30490.0        253.0  87.026141        12.184421   0.0   11.420053   \n",
       "137488    13918.0          8.0  88.837741         3.294956  15.0   14.142973   \n",
       "103151    45579.0        218.0  95.836695        12.266298   8.0    7.780124   \n",
       "543968      702.0        162.0  90.645909        12.769869  12.0   13.756563   \n",
       "30781     15789.0        321.0  98.600000         9.200000  10.0    8.494024   \n",
       "555198     1260.0        221.0  86.376058        13.867414  10.0   11.617130   \n",
       "\n",
       "        wind_direction  ground_state_id  cld_ttl_amt_id   dewpoint  \\\n",
       "131044        0.000000         1.000000        8.000000   4.800000   \n",
       "785808      270.000000         9.966551        7.000000   3.600000   \n",
       "620978      180.000000         8.176260        7.831439  13.900000   \n",
       "311918      200.474360         8.210765        4.203921   8.502210   \n",
       "703464      284.307115         6.419857        5.746491  10.080334   \n",
       "137488      237.738527         7.500547        1.950249   1.850426   \n",
       "103151      213.816267         9.967635        4.370944  11.606114   \n",
       "543968      284.805862         8.207511        7.975361  11.229344   \n",
       "30781       160.423585         6.419979        7.985855   9.000000   \n",
       "555198      285.795727         6.419979        7.822546  11.561640   \n",
       "\n",
       "        age_of_vehicle  accident  \n",
       "131044            13.0       1.0  \n",
       "785808             6.0       0.0  \n",
       "620978             1.0       1.0  \n",
       "311918             3.0       0.0  \n",
       "703464             9.0       0.0  \n",
       "137488             1.0       1.0  \n",
       "103151             4.0       1.0  \n",
       "543968            12.0       0.0  \n",
       "30781             12.0       1.0  \n",
       "555198             4.0       1.0  "
      ]
     },
     "execution_count": 59,
     "metadata": {},
     "output_type": "execute_result"
    }
   ],
   "source": [
    "test_data = df.sample(10)\n",
    "test_data"
   ]
  },
  {
   "cell_type": "code",
   "execution_count": 65,
   "id": "20de1fbb-bd9e-4672-8a04-66b30ab8ec4f",
   "metadata": {},
   "outputs": [],
   "source": [
    "# import json\n",
    "# print (json.dumps(test_data, indent=2, default=str))\n",
    "test_records = []\n",
    "for record in test_data.to_dict('records'):\n",
    "    acc = record['accident']\n",
    "    del record['accident']\n",
    "    \n",
    "    test_records.append({\n",
    "        'input': record,\n",
    "        'accident': acc\n",
    "    })"
   ]
  },
  {
   "cell_type": "code",
   "execution_count": 66,
   "id": "6175a81f-bc93-40b3-96e1-79b0fa45e776",
   "metadata": {},
   "outputs": [
    {
     "data": {
      "text/plain": [
       "[{'input': {'engine_capacity': 1392.0,\n",
       "   'vehicle_type': 9.0,\n",
       "   'age_of_driver': 59.0,\n",
       "   'longitude': -1.455565,\n",
       "   'latitude': 53.419588,\n",
       "   'cluster_1': 13739.0,\n",
       "   'day_of_year': 241.0,\n",
       "   'rltv_hum': 60.5,\n",
       "   'air_temperature': 12.2,\n",
       "   'hour': 20.0,\n",
       "   'wind_speed': 0.0,\n",
       "   'wind_direction': 0.0,\n",
       "   'ground_state_id': 1.0,\n",
       "   'cld_ttl_amt_id': 8.0,\n",
       "   'dewpoint': 4.8,\n",
       "   'age_of_vehicle': 13.0},\n",
       "  'accident': 1.0},\n",
       " {'input': {'engine_capacity': 1744.0,\n",
       "   'vehicle_type': 19.0,\n",
       "   'age_of_driver': 11.0,\n",
       "   'longitude': -2.1692720000000003,\n",
       "   'latitude': 53.38852900000001,\n",
       "   'cluster_1': 34395.0,\n",
       "   'day_of_year': 57.0,\n",
       "   'rltv_hum': 84.4,\n",
       "   'air_temperature': 5.9,\n",
       "   'hour': 2.0,\n",
       "   'wind_speed': 8.0,\n",
       "   'wind_direction': 270.0,\n",
       "   'ground_state_id': 9.966551125033217,\n",
       "   'cld_ttl_amt_id': 7.0,\n",
       "   'dewpoint': 3.6,\n",
       "   'age_of_vehicle': 6.0},\n",
       "  'accident': 0.0},\n",
       " {'input': {'engine_capacity': 1390.0,\n",
       "   'vehicle_type': 9.0,\n",
       "   'age_of_driver': 35.0,\n",
       "   'longitude': -2.241664,\n",
       "   'latitude': 53.48017900000001,\n",
       "   'cluster_1': 8191.0,\n",
       "   'day_of_year': 177.0,\n",
       "   'rltv_hum': 54.8,\n",
       "   'air_temperature': 23.6,\n",
       "   'hour': 12.0,\n",
       "   'wind_speed': 5.0,\n",
       "   'wind_direction': 180.0,\n",
       "   'ground_state_id': 8.176260096454872,\n",
       "   'cld_ttl_amt_id': 7.831439371260178,\n",
       "   'dewpoint': 13.9,\n",
       "   'age_of_vehicle': 1.0},\n",
       "  'accident': 1.0},\n",
       " {'input': {'engine_capacity': 1956.0,\n",
       "   'vehicle_type': 5.0,\n",
       "   'age_of_driver': 50.0,\n",
       "   'longitude': 0.0583039999999999,\n",
       "   'latitude': 51.424728,\n",
       "   'cluster_1': 2807.0,\n",
       "   'day_of_year': 279.0,\n",
       "   'rltv_hum': 88.56096524245338,\n",
       "   'air_temperature': 10.3577543083368,\n",
       "   'hour': 18.0,\n",
       "   'wind_speed': 9.843864549005671,\n",
       "   'wind_direction': 200.4743600833488,\n",
       "   'ground_state_id': 8.210765264097635,\n",
       "   'cld_ttl_amt_id': 4.203921240172061,\n",
       "   'dewpoint': 8.502209886384929,\n",
       "   'age_of_vehicle': 3.0},\n",
       "  'accident': 0.0},\n",
       " {'input': {'engine_capacity': 2874.0,\n",
       "   'vehicle_type': 97.0,\n",
       "   'age_of_driver': 85.0,\n",
       "   'longitude': -4.063975,\n",
       "   'latitude': 51.745943,\n",
       "   'cluster_1': 30490.0,\n",
       "   'day_of_year': 253.0,\n",
       "   'rltv_hum': 87.0261407862686,\n",
       "   'air_temperature': 12.184421361821089,\n",
       "   'hour': 0.0,\n",
       "   'wind_speed': 11.420052637691073,\n",
       "   'wind_direction': 284.3071154498698,\n",
       "   'ground_state_id': 6.419856561631128,\n",
       "   'cld_ttl_amt_id': 5.746491433834152,\n",
       "   'dewpoint': 10.080334173204918,\n",
       "   'age_of_vehicle': 9.0},\n",
       "  'accident': 0.0},\n",
       " {'input': {'engine_capacity': 998.0,\n",
       "   'vehicle_type': 9.0,\n",
       "   'age_of_driver': 31.0,\n",
       "   'longitude': -1.473296,\n",
       "   'latitude': 53.360611,\n",
       "   'cluster_1': 13918.0,\n",
       "   'day_of_year': 8.0,\n",
       "   'rltv_hum': 88.8377407400786,\n",
       "   'air_temperature': 3.2949558298532224,\n",
       "   'hour': 15.0,\n",
       "   'wind_speed': 14.14297256757894,\n",
       "   'wind_direction': 237.7385265022501,\n",
       "   'ground_state_id': 7.5005474860081875,\n",
       "   'cld_ttl_amt_id': 1.9502493329114023,\n",
       "   'dewpoint': 1.85042637713887,\n",
       "   'age_of_vehicle': 1.0},\n",
       "  'accident': 1.0},\n",
       " {'input': {'engine_capacity': 1590.0,\n",
       "   'vehicle_type': 9.0,\n",
       "   'age_of_driver': 35.0,\n",
       "   'longitude': 1.374845,\n",
       "   'latitude': 52.110725,\n",
       "   'cluster_1': 45579.0,\n",
       "   'day_of_year': 218.0,\n",
       "   'rltv_hum': 95.83669498187136,\n",
       "   'air_temperature': 12.266297941121294,\n",
       "   'hour': 8.0,\n",
       "   'wind_speed': 7.780123710899737,\n",
       "   'wind_direction': 213.81626715911784,\n",
       "   'ground_state_id': 9.967634830696698,\n",
       "   'cld_ttl_amt_id': 4.3709437579045325,\n",
       "   'dewpoint': 11.606113632839286,\n",
       "   'age_of_vehicle': 4.0},\n",
       "  'accident': 1.0},\n",
       " {'input': {'engine_capacity': 119.0,\n",
       "   'vehicle_type': 16.0,\n",
       "   'age_of_driver': 38.0,\n",
       "   'longitude': -0.123377,\n",
       "   'latitude': 51.568425,\n",
       "   'cluster_1': 702.0,\n",
       "   'day_of_year': 162.0,\n",
       "   'rltv_hum': 90.64590909809972,\n",
       "   'air_temperature': 12.769869275059474,\n",
       "   'hour': 12.0,\n",
       "   'wind_speed': 13.756562992182474,\n",
       "   'wind_direction': 284.80586209579826,\n",
       "   'ground_state_id': 8.207510692559932,\n",
       "   'cld_ttl_amt_id': 7.975361195598447,\n",
       "   'dewpoint': 11.229344165785873,\n",
       "   'age_of_vehicle': 12.0},\n",
       "  'accident': 0.0},\n",
       " {'input': {'engine_capacity': 1679.0,\n",
       "   'vehicle_type': 9.0,\n",
       "   'age_of_driver': 37.0,\n",
       "   'longitude': -2.004398,\n",
       "   'latitude': 52.614487,\n",
       "   'cluster_1': 15789.0,\n",
       "   'day_of_year': 321.0,\n",
       "   'rltv_hum': 98.6,\n",
       "   'air_temperature': 9.2,\n",
       "   'hour': 10.0,\n",
       "   'wind_speed': 8.49402355148263,\n",
       "   'wind_direction': 160.42358534409078,\n",
       "   'ground_state_id': 6.419978990211779,\n",
       "   'cld_ttl_amt_id': 7.985854669166286,\n",
       "   'dewpoint': 9.0,\n",
       "   'age_of_vehicle': 12.0},\n",
       "  'accident': 1.0},\n",
       " {'input': {'engine_capacity': 4500.0,\n",
       "   'vehicle_type': 11.0,\n",
       "   'age_of_driver': 31.0,\n",
       "   'longitude': -0.032725,\n",
       "   'latitude': 51.512354,\n",
       "   'cluster_1': 1260.0,\n",
       "   'day_of_year': 221.0,\n",
       "   'rltv_hum': 86.37605790376345,\n",
       "   'air_temperature': 13.867414440678287,\n",
       "   'hour': 10.0,\n",
       "   'wind_speed': 11.617130181223626,\n",
       "   'wind_direction': 285.7957272688244,\n",
       "   'ground_state_id': 6.419978632409288,\n",
       "   'cld_ttl_amt_id': 7.8225460874931825,\n",
       "   'dewpoint': 11.561639603326444,\n",
       "   'age_of_vehicle': 4.0},\n",
       "  'accident': 1.0}]"
      ]
     },
     "execution_count": 66,
     "metadata": {},
     "output_type": "execute_result"
    }
   ],
   "source": [
    "test_records"
   ]
  }
 ],
 "metadata": {
  "kernelspec": {
   "display_name": "Python 3",
   "language": "python",
   "name": "python3"
  },
  "language_info": {
   "codemirror_mode": {
    "name": "ipython",
    "version": 3
   },
   "file_extension": ".py",
   "mimetype": "text/x-python",
   "name": "python",
   "nbconvert_exporter": "python",
   "pygments_lexer": "ipython3",
   "version": "3.8.5"
  }
 },
 "nbformat": 4,
 "nbformat_minor": 5
}
