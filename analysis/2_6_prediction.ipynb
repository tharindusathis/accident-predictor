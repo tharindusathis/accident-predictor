{
 "cells": [
  {
   "cell_type": "code",
   "execution_count": 1,
   "id": "f4015a16-1b01-4cfd-9779-1410ffe84944",
   "metadata": {},
   "outputs": [],
   "source": [
    "import pandas as pd\n",
    "import numpy as np\n",
    "import random\n",
    "import os\n",
    "import matplotlib.pyplot as plt\n",
    "import seaborn as sns\n",
    "\n",
    "from sklearn.model_selection import train_test_split\n",
    "from sklearn import metrics\n",
    "\n",
    "from sklearn.metrics import f1_score,confusion_matrix,accuracy_score,classification_report"
   ]
  },
  {
   "cell_type": "code",
   "execution_count": 2,
   "id": "1f06dfa0-c65d-48da-89f8-36de2573238b",
   "metadata": {},
   "outputs": [
    {
     "data": {
      "text/plain": [
       "(1364460, 17)"
      ]
     },
     "execution_count": 2,
     "metadata": {},
     "output_type": "execute_result"
    }
   ],
   "source": [
    "df = pd.read_csv(\"../../data/classification_ready_data.csv\")\n",
    "\n",
    "df.shape"
   ]
  },
  {
   "cell_type": "code",
   "execution_count": 3,
   "id": "2539f93b-31cc-46ae-b004-5bc60f1cb043",
   "metadata": {},
   "outputs": [
    {
     "data": {
      "text/html": [
       "<div>\n",
       "<style scoped>\n",
       "    .dataframe tbody tr th:only-of-type {\n",
       "        vertical-align: middle;\n",
       "    }\n",
       "\n",
       "    .dataframe tbody tr th {\n",
       "        vertical-align: top;\n",
       "    }\n",
       "\n",
       "    .dataframe thead th {\n",
       "        text-align: right;\n",
       "    }\n",
       "</style>\n",
       "<table border=\"1\" class=\"dataframe\">\n",
       "  <thead>\n",
       "    <tr style=\"text-align: right;\">\n",
       "      <th></th>\n",
       "      <th>engine_capacity_(cc)</th>\n",
       "      <th>vehicle_type</th>\n",
       "      <th>latitude</th>\n",
       "      <th>age_of_driver</th>\n",
       "      <th>longitude</th>\n",
       "      <th>cluster_1</th>\n",
       "      <th>day_of_year</th>\n",
       "      <th>rltv_hum</th>\n",
       "      <th>dewpoint</th>\n",
       "      <th>ground_state_id</th>\n",
       "      <th>age_of_vehicle</th>\n",
       "      <th>wind_speed</th>\n",
       "      <th>air_temperature</th>\n",
       "      <th>wind_direction</th>\n",
       "      <th>hour</th>\n",
       "      <th>cld_ttl_amt_id</th>\n",
       "      <th>accident</th>\n",
       "    </tr>\n",
       "  </thead>\n",
       "  <tbody>\n",
       "    <tr>\n",
       "      <th>1182545</th>\n",
       "      <td>-1.0</td>\n",
       "      <td>1.0</td>\n",
       "      <td>50.741821</td>\n",
       "      <td>77.0</td>\n",
       "      <td>-1.697809</td>\n",
       "      <td>47006.0</td>\n",
       "      <td>114.0</td>\n",
       "      <td>73.324330</td>\n",
       "      <td>6.958993</td>\n",
       "      <td>2.213359</td>\n",
       "      <td>-1.0</td>\n",
       "      <td>14.106580</td>\n",
       "      <td>11.666409</td>\n",
       "      <td>148.480602</td>\n",
       "      <td>11.0</td>\n",
       "      <td>6.699226</td>\n",
       "      <td>1.0</td>\n",
       "    </tr>\n",
       "    <tr>\n",
       "      <th>186221</th>\n",
       "      <td>-1.0</td>\n",
       "      <td>9.0</td>\n",
       "      <td>51.305848</td>\n",
       "      <td>45.0</td>\n",
       "      <td>-0.570112</td>\n",
       "      <td>25937.0</td>\n",
       "      <td>244.0</td>\n",
       "      <td>51.400000</td>\n",
       "      <td>8.800000</td>\n",
       "      <td>8.207632</td>\n",
       "      <td>-1.0</td>\n",
       "      <td>4.000000</td>\n",
       "      <td>19.100000</td>\n",
       "      <td>80.000000</td>\n",
       "      <td>12.0</td>\n",
       "      <td>4.261416</td>\n",
       "      <td>1.0</td>\n",
       "    </tr>\n",
       "    <tr>\n",
       "      <th>1154674</th>\n",
       "      <td>2198.0</td>\n",
       "      <td>19.0</td>\n",
       "      <td>54.794096</td>\n",
       "      <td>60.0</td>\n",
       "      <td>-1.527137</td>\n",
       "      <td>11454.0</td>\n",
       "      <td>245.0</td>\n",
       "      <td>63.600000</td>\n",
       "      <td>10.900000</td>\n",
       "      <td>7.089713</td>\n",
       "      <td>5.0</td>\n",
       "      <td>6.000000</td>\n",
       "      <td>17.900000</td>\n",
       "      <td>90.000000</td>\n",
       "      <td>15.0</td>\n",
       "      <td>7.217739</td>\n",
       "      <td>1.0</td>\n",
       "    </tr>\n",
       "    <tr>\n",
       "      <th>544634</th>\n",
       "      <td>501.0</td>\n",
       "      <td>19.0</td>\n",
       "      <td>53.762376</td>\n",
       "      <td>47.0</td>\n",
       "      <td>-0.274538</td>\n",
       "      <td>36332.0</td>\n",
       "      <td>109.0</td>\n",
       "      <td>71.691165</td>\n",
       "      <td>3.395522</td>\n",
       "      <td>10.112867</td>\n",
       "      <td>6.0</td>\n",
       "      <td>3.991252</td>\n",
       "      <td>8.206396</td>\n",
       "      <td>239.317852</td>\n",
       "      <td>10.0</td>\n",
       "      <td>1.058302</td>\n",
       "      <td>0.0</td>\n",
       "    </tr>\n",
       "    <tr>\n",
       "      <th>319662</th>\n",
       "      <td>628.0</td>\n",
       "      <td>8.0</td>\n",
       "      <td>54.523598</td>\n",
       "      <td>86.0</td>\n",
       "      <td>-1.557954</td>\n",
       "      <td>44126.0</td>\n",
       "      <td>177.0</td>\n",
       "      <td>74.800000</td>\n",
       "      <td>11.300000</td>\n",
       "      <td>1.000000</td>\n",
       "      <td>9.0</td>\n",
       "      <td>8.000000</td>\n",
       "      <td>15.800000</td>\n",
       "      <td>50.000000</td>\n",
       "      <td>17.0</td>\n",
       "      <td>6.000000</td>\n",
       "      <td>0.0</td>\n",
       "    </tr>\n",
       "    <tr>\n",
       "      <th>1019981</th>\n",
       "      <td>1390.0</td>\n",
       "      <td>9.0</td>\n",
       "      <td>51.603767</td>\n",
       "      <td>25.0</td>\n",
       "      <td>-0.383299</td>\n",
       "      <td>47605.0</td>\n",
       "      <td>221.0</td>\n",
       "      <td>67.804936</td>\n",
       "      <td>7.730318</td>\n",
       "      <td>7.089712</td>\n",
       "      <td>4.0</td>\n",
       "      <td>10.550103</td>\n",
       "      <td>13.597722</td>\n",
       "      <td>271.551319</td>\n",
       "      <td>19.0</td>\n",
       "      <td>2.129457</td>\n",
       "      <td>1.0</td>\n",
       "    </tr>\n",
       "  </tbody>\n",
       "</table>\n",
       "</div>"
      ],
      "text/plain": [
       "         engine_capacity_(cc)  vehicle_type   latitude  age_of_driver  \\\n",
       "1182545                  -1.0           1.0  50.741821           77.0   \n",
       "186221                   -1.0           9.0  51.305848           45.0   \n",
       "1154674                2198.0          19.0  54.794096           60.0   \n",
       "544634                  501.0          19.0  53.762376           47.0   \n",
       "319662                  628.0           8.0  54.523598           86.0   \n",
       "1019981                1390.0           9.0  51.603767           25.0   \n",
       "\n",
       "         longitude  cluster_1  day_of_year   rltv_hum   dewpoint  \\\n",
       "1182545  -1.697809    47006.0        114.0  73.324330   6.958993   \n",
       "186221   -0.570112    25937.0        244.0  51.400000   8.800000   \n",
       "1154674  -1.527137    11454.0        245.0  63.600000  10.900000   \n",
       "544634   -0.274538    36332.0        109.0  71.691165   3.395522   \n",
       "319662   -1.557954    44126.0        177.0  74.800000  11.300000   \n",
       "1019981  -0.383299    47605.0        221.0  67.804936   7.730318   \n",
       "\n",
       "         ground_state_id  age_of_vehicle  wind_speed  air_temperature  \\\n",
       "1182545         2.213359            -1.0   14.106580        11.666409   \n",
       "186221          8.207632            -1.0    4.000000        19.100000   \n",
       "1154674         7.089713             5.0    6.000000        17.900000   \n",
       "544634         10.112867             6.0    3.991252         8.206396   \n",
       "319662          1.000000             9.0    8.000000        15.800000   \n",
       "1019981         7.089712             4.0   10.550103        13.597722   \n",
       "\n",
       "         wind_direction  hour  cld_ttl_amt_id  accident  \n",
       "1182545      148.480602  11.0        6.699226       1.0  \n",
       "186221        80.000000  12.0        4.261416       1.0  \n",
       "1154674       90.000000  15.0        7.217739       1.0  \n",
       "544634       239.317852  10.0        1.058302       0.0  \n",
       "319662        50.000000  17.0        6.000000       0.0  \n",
       "1019981      271.551319  19.0        2.129457       1.0  "
      ]
     },
     "execution_count": 3,
     "metadata": {},
     "output_type": "execute_result"
    }
   ],
   "source": [
    "df.sample(6)"
   ]
  },
  {
   "cell_type": "code",
   "execution_count": 4,
   "id": "5a5b8bc6-e4fa-4281-82fa-5efa7a276c44",
   "metadata": {},
   "outputs": [
    {
     "data": {
      "text/plain": [
       "Index(['engine_capacity_(cc)', 'vehicle_type', 'latitude', 'age_of_driver',\n",
       "       'longitude', 'cluster_1', 'day_of_year', 'rltv_hum', 'dewpoint',\n",
       "       'ground_state_id', 'age_of_vehicle', 'wind_speed', 'air_temperature',\n",
       "       'wind_direction', 'hour', 'cld_ttl_amt_id', 'accident'],\n",
       "      dtype='object')"
      ]
     },
     "execution_count": 4,
     "metadata": {},
     "output_type": "execute_result"
    }
   ],
   "source": [
    "df.columns"
   ]
  },
  {
   "cell_type": "markdown",
   "id": "1016878a-8fc3-40a4-8237-5f452c67f41d",
   "metadata": {},
   "source": [
    "### data split"
   ]
  },
  {
   "cell_type": "code",
   "execution_count": 5,
   "id": "6ba79827-9afe-4f8a-9fd5-12844ec3b467",
   "metadata": {},
   "outputs": [
    {
     "name": "stdout",
     "output_type": "stream",
     "text": [
      "X_train dimension =  (955122, 16)\n",
      "X_test  dimension =  (409338, 16)\n",
      "y_train dimension =  (955122,)\n",
      "y_train dimension =  (409338,)\n"
     ]
    }
   ],
   "source": [
    "all_feature_cols = list(df.columns)\n",
    "all_feature_cols.remove('accident')\n",
    "\n",
    "X = df[all_feature_cols] \n",
    "y = df['accident']\n",
    "\n",
    "# data splitting\n",
    "X_train, X_test, y_train, y_test = train_test_split(X, y, test_size=0.3, random_state=0)\n",
    "\n",
    "print('X_train dimension = ', X_train.shape)\n",
    "print('X_test  dimension = ', X_test.shape)\n",
    "print('y_train dimension = ', y_train.shape)\n",
    "print('y_train dimension = ', y_test.shape)"
   ]
  },
  {
   "cell_type": "markdown",
   "id": "bac62046-f720-4496-b468-37af4c813555",
   "metadata": {},
   "source": [
    "### Logistic Regression"
   ]
  },
  {
   "cell_type": "code",
   "execution_count": 6,
   "id": "f3c0f099-ea2e-4841-8df5-f30c3a7c1f3e",
   "metadata": {},
   "outputs": [
    {
     "data": {
      "text/plain": [
       "LogisticRegression(max_iter=120000)"
      ]
     },
     "execution_count": 6,
     "metadata": {},
     "output_type": "execute_result"
    }
   ],
   "source": [
    "from sklearn.linear_model import LogisticRegression\n",
    "\n",
    "model_logreg = LogisticRegression(dual=False, max_iter=120000)\n",
    "model_logreg.fit(X_train, y_train)"
   ]
  },
  {
   "cell_type": "code",
   "execution_count": 7,
   "id": "5dffb58b-769b-4a25-b10c-b5f86bcea820",
   "metadata": {},
   "outputs": [
    {
     "name": "stdout",
     "output_type": "stream",
     "text": [
      "Accuracy [LOG REG]: 0.7510565840454587\n"
     ]
    }
   ],
   "source": [
    "y_pred = model_logreg.predict(X_test)\n",
    "print(\"Accuracy [LOG REG]:\",metrics.accuracy_score(y_test, y_pred))\n",
    "# print('Accuracy of logistic regression classifier on test set: {:.2f}'.format(logreg.score(X_test, y_test)))"
   ]
  },
  {
   "cell_type": "code",
   "execution_count": 11,
   "id": "68de185f-87cd-405c-8891-fa923db866b8",
   "metadata": {},
   "outputs": [
    {
     "name": "stdout",
     "output_type": "stream",
     "text": [
      "              precision    recall  f1-score   support\n",
      "\n",
      "         0.0       0.80      0.67      0.73    204766\n",
      "         1.0       0.71      0.83      0.77    204572\n",
      "\n",
      "    accuracy                           0.75    409338\n",
      "   macro avg       0.76      0.75      0.75    409338\n",
      "weighted avg       0.76      0.75      0.75    409338\n",
      "\n"
     ]
    },
    {
     "data": {
      "image/png": "[encoded data removed]",
      "text/plain": [
       "<Figure size 720x432 with 2 Axes>"
      ]
     },
     "metadata": {
      "needs_background": "light"
     },
     "output_type": "display_data"
    }
   ],
   "source": [
    "fig, ax = plt.subplots(figsize=(10, 6))\n",
    "ax.set_title('Confusion Matrx [LOG REG]')\n",
    "disp =metrics.plot_confusion_matrix(model_logreg, X_test, y_test, ax = ax)\n",
    "disp.confusion_matrix\n",
    "print(metrics.classification_report(y_test, y_pred))"
   ]
  },
  {
   "cell_type": "markdown",
   "id": "ad5de1aa-3110-44ca-9234-9c6e11be4e7d",
   "metadata": {},
   "source": [
    "### SVM"
   ]
  },
  {
   "cell_type": "code",
   "execution_count": null,
   "id": "316df2e4-99ba-471f-90a0-d3dedf1cbe69",
   "metadata": {},
   "outputs": [],
   "source": [
    "from sklearn.svm import SVC\n",
    "\n",
    "model_svm = SVC()\n",
    "model_svm.fit(X_train,y_train)"
   ]
  },
  {
   "cell_type": "code",
   "execution_count": null,
   "id": "027537ba-0a2b-4d19-99cc-361f7eb2d7f9",
   "metadata": {},
   "outputs": [],
   "source": [
    "y_pred = model_svm.predict(X_test)\n",
    "print(\"Accuracy [SVM]:\",metrics.accuracy_score(y_test, y_pred))"
   ]
  },
  {
   "cell_type": "code",
   "execution_count": null,
   "id": "a25a3997-6f64-44fa-bba5-8dd2e21ccff3",
   "metadata": {},
   "outputs": [],
   "source": [
    "fig, ax = plt.subplots(figsize=(10, 6))\n",
    "ax.set_title('Confusion Matrx [SVM]')\n",
    "disp =metrics.plot_confusion_matrix(model_svm, X_test, y_test, ax = ax)\n",
    "disp.confusion_matrix\n",
    "print(metrics.classification_report(y_test, y_pred))"
   ]
  },
  {
   "cell_type": "markdown",
   "id": "353b7b31-4f5a-46fe-a062-95001f9ff3ab",
   "metadata": {},
   "source": [
    "### Random Forest Classifier"
   ]
  },
  {
   "cell_type": "code",
   "execution_count": 6,
   "id": "2bb3a8c6-e93b-4a94-9126-b229bd1ba32d",
   "metadata": {},
   "outputs": [
    {
     "data": {
      "text/plain": [
       "RandomForestClassifier(random_state=43)"
      ]
     },
     "execution_count": 6,
     "metadata": {},
     "output_type": "execute_result"
    }
   ],
   "source": [
    "from sklearn.ensemble import RandomForestClassifier\n",
    "\n",
    "#random forest classifier with n_estimators=10 (default)\n",
    "model_rf = RandomForestClassifier(random_state=43)      \n",
    "model_rf.fit(X_train,y_train)"
   ]
  },
  {
   "cell_type": "code",
   "execution_count": 7,
   "id": "73c929b0-2cf2-47b9-92fe-e76ff734c035",
   "metadata": {},
   "outputs": [
    {
     "name": "stdout",
     "output_type": "stream",
     "text": [
      "Accuracy [RFC]: 0.9731517718853369\n"
     ]
    }
   ],
   "source": [
    "y_pred = model_rf.predict(X_test)\n",
    "print(\"Accuracy [RFC]:\",metrics.accuracy_score(y_test, y_pred))"
   ]
  },
  {
   "cell_type": "code",
   "execution_count": 9,
   "id": "5f46162f-c4cd-4470-918d-42617876e9f4",
   "metadata": {},
   "outputs": [
    {
     "name": "stdout",
     "output_type": "stream",
     "text": [
      "              precision    recall  f1-score   support\n",
      "\n",
      "         0.0       0.98      0.97      0.97    204766\n",
      "         1.0       0.97      0.98      0.97    204572\n",
      "\n",
      "    accuracy                           0.97    409338\n",
      "   macro avg       0.97      0.97      0.97    409338\n",
      "weighted avg       0.97      0.97      0.97    409338\n",
      "\n"
     ]
    },
    {
     "data": {
      "image/png": "[encoded data removed]",
      "text/plain": [
       "<Figure size 720x432 with 2 Axes>"
      ]
     },
     "metadata": {
      "needs_background": "light"
     },
     "output_type": "display_data"
    }
   ],
   "source": [
    "fig, ax = plt.subplots(figsize=(10, 6))\n",
    "ax.set_title('Confusion Matrx [RFC]')\n",
    "disp =metrics.plot_confusion_matrix(model_rf, X_test, y_test, ax = ax)\n",
    "disp.confusion_matrix\n",
    "print(metrics.classification_report(y_test, y_pred))"
   ]
  },
  {
   "cell_type": "markdown",
   "id": "5cb5e9c6-44a7-48c3-ac9a-5abbae40efda",
   "metadata": {},
   "source": [
    "### Decision Tree "
   ]
  },
  {
   "cell_type": "code",
   "execution_count": 12,
   "id": "eb75be52-d9cc-42e5-9549-c36c647febfc",
   "metadata": {},
   "outputs": [
    {
     "data": {
      "text/plain": [
       "DecisionTreeClassifier()"
      ]
     },
     "execution_count": 12,
     "metadata": {},
     "output_type": "execute_result"
    }
   ],
   "source": [
    "from sklearn.tree import DecisionTreeClassifier\n",
    "\n",
    "model_dt_clf_1 = DecisionTreeClassifier()\n",
    "model_dt_clf_1.fit(X_train,y_train)"
   ]
  },
  {
   "cell_type": "code",
   "execution_count": 20,
   "id": "e85ed342-702a-4ed9-a3c6-9370d9ddff0c",
   "metadata": {},
   "outputs": [
    {
     "name": "stdout",
     "output_type": "stream",
     "text": [
      "Accuracy [Decision Tree (gini)]: 0.9678407575157938\n"
     ]
    }
   ],
   "source": [
    "y_pred = model_dt_clf_1.predict(X_test)\n",
    "print(\"Accuracy [Decision Tree (gini)]:\",metrics.accuracy_score(y_test, y_pred))"
   ]
  },
  {
   "cell_type": "code",
   "execution_count": 21,
   "id": "20aa7d12-17d3-411c-b9a3-0d9e9d6d45df",
   "metadata": {},
   "outputs": [
    {
     "name": "stdout",
     "output_type": "stream",
     "text": [
      "              precision    recall  f1-score   support\n",
      "\n",
      "         0.0       0.97      0.97      0.97    204766\n",
      "         1.0       0.97      0.97      0.97    204572\n",
      "\n",
      "    accuracy                           0.97    409338\n",
      "   macro avg       0.97      0.97      0.97    409338\n",
      "weighted avg       0.97      0.97      0.97    409338\n",
      "\n"
     ]
    },
    {
     "data": {
      "image/png": "[encoded data removed]",
      "text/plain": [
       "<Figure size 720x432 with 2 Axes>"
      ]
     },
     "metadata": {
      "needs_background": "light"
     },
     "output_type": "display_data"
    }
   ],
   "source": [
    "fig, ax = plt.subplots(figsize=(10, 6))\n",
    "ax.set_title('Confusion Matrx [Decision Tree (gini)]')\n",
    "disp =metrics.plot_confusion_matrix(model_dt_clf_1, X_test, y_test, ax = ax)\n",
    "disp.confusion_matrix\n",
    "print(metrics.classification_report(y_test, y_pred))"
   ]
  },
  {
   "cell_type": "code",
   "execution_count": 16,
   "id": "b85f77fb-5be8-4f7c-8867-11dc666d67ef",
   "metadata": {},
   "outputs": [],
   "source": [
    "model_dt_clf_2 = DecisionTreeClassifier(criterion=\"entropy\", max_depth=3)\n",
    "model_dt_clf_2 = model_dt_clf_2.fit(X_train,y_train)"
   ]
  },
  {
   "cell_type": "code",
   "execution_count": 22,
   "id": "befda16d-bd3b-467b-9489-f1def4615afa",
   "metadata": {},
   "outputs": [
    {
     "name": "stdout",
     "output_type": "stream",
     "text": [
      "Accuracy [Decision Tree (entropy)]: 0.9036615217741817\n"
     ]
    }
   ],
   "source": [
    "y_pred = model_dt_clf_2.predict(X_test)\n",
    "print(\"Accuracy [Decision Tree (entropy)]:\",metrics.accuracy_score(y_test, y_pred))"
   ]
  },
  {
   "cell_type": "code",
   "execution_count": 23,
   "id": "a3fcfe6f-d5bd-4d6e-8fea-57fc2d8f9dd8",
   "metadata": {},
   "outputs": [
    {
     "name": "stdout",
     "output_type": "stream",
     "text": [
      "              precision    recall  f1-score   support\n",
      "\n",
      "         0.0       0.87      0.95      0.91    204766\n",
      "         1.0       0.95      0.85      0.90    204572\n",
      "\n",
      "    accuracy                           0.90    409338\n",
      "   macro avg       0.91      0.90      0.90    409338\n",
      "weighted avg       0.91      0.90      0.90    409338\n",
      "\n"
     ]
    },
    {
     "data": {
      "image/png": "[encoded data removed]",
      "text/plain": [
       "<Figure size 720x432 with 2 Axes>"
      ]
     },
     "metadata": {
      "needs_background": "light"
     },
     "output_type": "display_data"
    }
   ],
   "source": [
    "fig, ax = plt.subplots(figsize=(10, 6))\n",
    "ax.set_title('Confusion Matrx [Decision Tree (entropy)]')\n",
    "disp =metrics.plot_confusion_matrix(model_dt_clf_2, X_test, y_test, ax = ax)\n",
    "disp.confusion_matrix\n",
    "print(metrics.classification_report(y_test, y_pred))"
   ]
  },
  {
   "cell_type": "markdown",
   "id": "13b3d4e4-874c-4c46-8cd6-fd725d3bfd51",
   "metadata": {},
   "source": [
    "# output\n",
    "\n",
    "Random Forest Classifier and Decision Tree with gini criterion have higher accuracy >96"
   ]
  },
  {
   "cell_type": "code",
   "execution_count": 26,
   "id": "9b80256b-50f6-4b4b-8d12-3d64ba69accd",
   "metadata": {},
   "outputs": [],
   "source": [
    "import pickle\n",
    "\n",
    "# serialize models\n",
    "\n",
    "pickle.dump(model_rf, open('./models/rf_v1.model', 'wb'))\n",
    "pickle.dump(model_dt_clf_1, open('./models/dt_v1.model', 'wb'))\n"
   ]
  },
  {
   "cell_type": "code",
   "execution_count": 11,
   "id": "56eafd48-aa6b-4a6e-ac9d-1634720d990f",
   "metadata": {},
   "outputs": [],
   "source": [
    "record_template = df.head(1)\n",
    "record_template = record_template.drop(['accident'], axis=1)\n",
    "record_template.loc[0,record_template.columns] = np.nan\n",
    "pickle.dump(record_template, open(\"./models/record_v1.template\", 'wb'))"
   ]
  }
 ],
 "metadata": {
  "kernelspec": {
   "display_name": "Python 3",
   "language": "python",
   "name": "python3"
  },
  "language_info": {
   "codemirror_mode": {
    "name": "ipython",
    "version": 3
   },
   "file_extension": ".py",
   "mimetype": "text/x-python",
   "name": "python",
   "nbconvert_exporter": "python",
   "pygments_lexer": "ipython3",
   "version": "3.8.5"
  }
 },
 "nbformat": 4,
 "nbformat_minor": 5
}
