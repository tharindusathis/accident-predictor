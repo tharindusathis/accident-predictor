{
 "cells": [
  {
   "cell_type": "code",
   "execution_count": null,
   "id": "a11fb0d5-8a42-4730-bf81-73e73a4ca152",
   "metadata": {},
   "outputs": [],
   "source": [
    "!python3 ./get_datasets_urls.py"
   ]
  },
  {
   "cell_type": "code",
   "execution_count": null,
   "id": "bc5d1abe-9c36-4ac5-83d5-c9ab4b520c3f",
   "metadata": {},
   "outputs": [],
   "source": []
  }
 ],
 "metadata": {
  "kernelspec": {
   "display_name": "Python 3",
   "language": "python",
   "name": "python3"
  },
  "language_info": {
   "codemirror_mode": {
    "name": "ipython",
    "version": 3
   },
   "file_extension": ".py",
   "mimetype": "text/x-python",
   "name": "python",
   "nbconvert_exporter": "python",
   "pygments_lexer": "ipython3",
   "version": "3.8.5"
  }
 },
 "nbformat": 4,
 "nbformat_minor": 5
}
