{
 "cells": [
  {
   "cell_type": "code",
   "execution_count": 1,
   "id": "f4015a16-1b01-4cfd-9779-1410ffe84944",
   "metadata": {},
   "outputs": [],
   "source": [
    "import pandas as pd\n",
    "import numpy as np\n",
    "import random\n",
    "import os"
   ]
  },
  {
   "cell_type": "code",
   "execution_count": 2,
   "id": "1f06dfa0-c65d-48da-89f8-36de2573238b",
   "metadata": {},
   "outputs": [],
   "source": [
    "accident_data_with_vehicle_data_further_cleaned_w_stations_n_non_accidents = pd.read_csv(\n",
    "    \"../../data/accident_data_with_vehicle_data_further_cleaned_w_stations_n_non_accidents_weather_merged.csv\")\n",
    "df = accident_data_with_vehicle_data_further_cleaned_w_stations_n_non_accidents\n"
   ]
  },
  {
   "cell_type": "code",
   "execution_count": 3,
   "id": "2539f93b-31cc-46ae-b004-5bc60f1cb043",
   "metadata": {},
   "outputs": [
    {
     "data": {
      "text/plain": [
       "index                         0\n",
       "longitude                     0\n",
       "latitude                      0\n",
       "accident_severity             0\n",
       "day_of_week                   0\n",
       "road_type                     0\n",
       "speed_limit                   0\n",
       "road_surface_conditions       0\n",
       "urban_or_rural_area           0\n",
       "year                          0\n",
       "hour                          0\n",
       "day_of_year                   0\n",
       "cluster_1                     0\n",
       "vehicle_type                  0\n",
       "sex_of_driver                 0\n",
       "age_of_driver                 0\n",
       "engine_capacity_(cc)          0\n",
       "age_of_vehicle                0\n",
       "driver_home_area_type         0\n",
       "station id                    0\n",
       "accident                      0\n",
       "wind_direction             1727\n",
       "wind_speed                 1727\n",
       "air_temperature            1727\n",
       "dewpoint                   1727\n",
       "wetb_temp                  1727\n",
       "rltv_hum                   1727\n",
       "ground_state_id            1727\n",
       "cld_ttl_amt_id             1727\n",
       "dtype: int64"
      ]
     },
     "execution_count": 3,
     "metadata": {},
     "output_type": "execute_result"
    }
   ],
   "source": [
    "df.isnull().sum()"
   ]
  },
  {
   "cell_type": "code",
   "execution_count": 4,
   "id": "abf3e0d4-4e45-43bd-8b5b-9b7bbb973082",
   "metadata": {},
   "outputs": [
    {
     "data": {
      "text/plain": [
       "index                      0\n",
       "longitude                  0\n",
       "latitude                   0\n",
       "accident_severity          0\n",
       "day_of_week                0\n",
       "road_type                  0\n",
       "speed_limit                0\n",
       "road_surface_conditions    0\n",
       "urban_or_rural_area        0\n",
       "year                       0\n",
       "hour                       0\n",
       "day_of_year                0\n",
       "cluster_1                  0\n",
       "vehicle_type               0\n",
       "sex_of_driver              0\n",
       "age_of_driver              0\n",
       "engine_capacity_(cc)       0\n",
       "age_of_vehicle             0\n",
       "driver_home_area_type      0\n",
       "station id                 0\n",
       "accident                   0\n",
       "wind_direction             0\n",
       "wind_speed                 0\n",
       "air_temperature            0\n",
       "dewpoint                   0\n",
       "wetb_temp                  0\n",
       "rltv_hum                   0\n",
       "ground_state_id            0\n",
       "cld_ttl_amt_id             0\n",
       "dtype: int64"
      ]
     },
     "execution_count": 4,
     "metadata": {},
     "output_type": "execute_result"
    }
   ],
   "source": [
    "## remove nulls\n",
    "df = df.dropna(subset = ['wind_direction'])\n",
    "df.isnull().sum()"
   ]
  },
  {
   "cell_type": "code",
   "execution_count": 5,
   "id": "427f67c7-8d20-41ac-8a52-fc909af83a13",
   "metadata": {},
   "outputs": [
    {
     "data": {
      "text/plain": [
       "(1364460, 29)"
      ]
     },
     "execution_count": 5,
     "metadata": {},
     "output_type": "execute_result"
    }
   ],
   "source": [
    "df.shape"
   ]
  },
  {
   "cell_type": "code",
   "execution_count": 6,
   "id": "56705f32-b6bb-4568-bbb1-acb3f4f985b3",
   "metadata": {},
   "outputs": [
    {
     "data": {
      "text/plain": [
       "Index(['index', 'longitude', 'latitude', 'accident_severity', 'day_of_week',\n",
       "       'road_type', 'speed_limit', 'road_surface_conditions',\n",
       "       'urban_or_rural_area', 'year', 'hour', 'day_of_year', 'cluster_1',\n",
       "       'vehicle_type', 'sex_of_driver', 'age_of_driver',\n",
       "       'engine_capacity_(cc)', 'age_of_vehicle', 'driver_home_area_type',\n",
       "       'station id', 'accident', 'wind_direction', 'wind_speed',\n",
       "       'air_temperature', 'dewpoint', 'wetb_temp', 'rltv_hum',\n",
       "       'ground_state_id', 'cld_ttl_amt_id'],\n",
       "      dtype='object')"
      ]
     },
     "execution_count": 6,
     "metadata": {},
     "output_type": "execute_result"
    }
   ],
   "source": [
    "df.columns"
   ]
  },
  {
   "cell_type": "code",
   "execution_count": 7,
   "id": "efd5c1ef-f44a-4eea-8477-4d6d1b5ee2aa",
   "metadata": {},
   "outputs": [
    {
     "data": {
      "text/plain": [
       "Index(['longitude', 'latitude', 'accident_severity', 'day_of_week',\n",
       "       'speed_limit', 'road_surface_conditions', 'urban_or_rural_area', 'year',\n",
       "       'hour', 'day_of_year', 'cluster_1', 'vehicle_type', 'sex_of_driver',\n",
       "       'age_of_driver', 'engine_capacity_(cc)', 'age_of_vehicle',\n",
       "       'driver_home_area_type', 'accident', 'wind_direction', 'wind_speed',\n",
       "       'air_temperature', 'dewpoint', 'wetb_temp', 'rltv_hum',\n",
       "       'ground_state_id', 'cld_ttl_amt_id'],\n",
       "      dtype='object')"
      ]
     },
     "execution_count": 7,
     "metadata": {},
     "output_type": "execute_result"
    }
   ],
   "source": [
    "# remove additional columns unneccesary for classification\n",
    "df = df.drop(['index','station id','road_type'],axis=1)\n",
    "df.columns"
   ]
  },
  {
   "cell_type": "markdown",
   "id": "38549a8a-b48b-4808-bcd6-442ec94a1aaf",
   "metadata": {},
   "source": [
    "### remove any uncertain values"
   ]
  },
  {
   "cell_type": "code",
   "execution_count": 8,
   "id": "c516c5bc-e7eb-4faa-bb8a-62aa6359821a",
   "metadata": {},
   "outputs": [
    {
     "name": "stdout",
     "output_type": "stream",
     "text": [
      "longitude 0\n",
      "latitude 0\n",
      "accident_severity 0\n",
      "day_of_week 0\n",
      "speed_limit 0\n",
      "road_surface_conditions 0\n",
      "urban_or_rural_area 0\n",
      "year 0\n",
      "hour 0\n",
      "day_of_year 0\n",
      "cluster_1 0\n",
      "vehicle_type 0\n",
      "sex_of_driver 0\n",
      "age_of_driver 0\n",
      "engine_capacity_(cc) 158815\n",
      "age_of_vehicle 357940\n",
      "driver_home_area_type 249830\n",
      "accident 0\n",
      "wind_direction 0\n",
      "wind_speed 0\n",
      "air_temperature 756\n",
      "dewpoint 1857\n",
      "wetb_temp 1096\n",
      "rltv_hum 0\n",
      "ground_state_id 0\n",
      "cld_ttl_amt_id 0\n"
     ]
    }
   ],
   "source": [
    "for col in df.columns:\n",
    "     print(col, (df[col] == -1).sum())"
   ]
  },
  {
   "cell_type": "code",
   "execution_count": 9,
   "id": "d2ff454b-7fed-4545-b231-d6ce856a01f2",
   "metadata": {},
   "outputs": [],
   "source": [
    "for col in df.columns:\n",
    "    df = df [df[col] != -1 ]"
   ]
  },
  {
   "cell_type": "code",
   "execution_count": 10,
   "id": "d3597cae-cd33-486e-b3ae-e520d2dfde1d",
   "metadata": {},
   "outputs": [
    {
     "name": "stdout",
     "output_type": "stream",
     "text": [
      "longitude 0\n",
      "latitude 0\n",
      "accident_severity 0\n",
      "day_of_week 0\n",
      "speed_limit 0\n",
      "road_surface_conditions 0\n",
      "urban_or_rural_area 0\n",
      "year 0\n",
      "hour 0\n",
      "day_of_year 0\n",
      "cluster_1 0\n",
      "vehicle_type 0\n",
      "sex_of_driver 0\n",
      "age_of_driver 0\n",
      "engine_capacity_(cc) 0\n",
      "age_of_vehicle 0\n",
      "driver_home_area_type 0\n",
      "accident 0\n",
      "wind_direction 0\n",
      "wind_speed 0\n",
      "air_temperature 0\n",
      "dewpoint 0\n",
      "wetb_temp 0\n",
      "rltv_hum 0\n",
      "ground_state_id 0\n",
      "cld_ttl_amt_id 0\n"
     ]
    }
   ],
   "source": [
    "for col in df.columns:\n",
    "     print(col, (df[col] == -1).sum())"
   ]
  },
  {
   "cell_type": "code",
   "execution_count": 14,
   "id": "c89e89f8-4920-4020-9fed-f67a1791155d",
   "metadata": {},
   "outputs": [
    {
     "data": {
      "text/plain": [
       "(826155, 26)"
      ]
     },
     "execution_count": 14,
     "metadata": {},
     "output_type": "execute_result"
    }
   ],
   "source": [
    "df.shape"
   ]
  },
  {
   "cell_type": "code",
   "execution_count": 19,
   "id": "cb72f24c-f52a-4e57-a082-8a86a721db2f",
   "metadata": {},
   "outputs": [],
   "source": [
    "df.rename(columns={'engine_capacity_(cc)':'engine_capacity'}, inplace=True)"
   ]
  },
  {
   "cell_type": "code",
   "execution_count": 20,
   "id": "f7f08e65-d4bf-4396-8e49-9d93876c3bbf",
   "metadata": {},
   "outputs": [
    {
     "data": {
      "text/plain": [
       "Index(['longitude', 'latitude', 'accident_severity', 'day_of_week',\n",
       "       'speed_limit', 'road_surface_conditions', 'urban_or_rural_area', 'year',\n",
       "       'hour', 'day_of_year', 'cluster_1', 'vehicle_type', 'sex_of_driver',\n",
       "       'age_of_driver', 'engine_capacity', 'age_of_vehicle',\n",
       "       'driver_home_area_type', 'accident', 'wind_direction', 'wind_speed',\n",
       "       'air_temperature', 'dewpoint', 'wetb_temp', 'rltv_hum',\n",
       "       'ground_state_id', 'cld_ttl_amt_id'],\n",
       "      dtype='object')"
      ]
     },
     "execution_count": 20,
     "metadata": {},
     "output_type": "execute_result"
    }
   ],
   "source": [
    "df.columns"
   ]
  },
  {
   "cell_type": "code",
   "execution_count": 21,
   "id": "7cabae2a-e7e6-44c0-8e4c-c01f2775a435",
   "metadata": {},
   "outputs": [],
   "source": [
    "df.to_csv(\"../../data/accident_data_with_vehicle_data_further_cleaned_w_stations_n_non_accidents_weather_merged_cleaned.csv\", index=False)"
   ]
  }
 ],
 "metadata": {
  "kernelspec": {
   "display_name": "Python 3",
   "language": "python",
   "name": "python3"
  },
  "language_info": {
   "codemirror_mode": {
    "name": "ipython",
    "version": 3
   },
   "file_extension": ".py",
   "mimetype": "text/x-python",
   "name": "python",
   "nbconvert_exporter": "python",
   "pygments_lexer": "ipython3",
   "version": "3.8.5"
  }
 },
 "nbformat": 4,
 "nbformat_minor": 5
}
