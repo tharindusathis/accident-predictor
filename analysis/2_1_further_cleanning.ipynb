{
 "cells": [
  {
   "cell_type": "code",
   "execution_count": 3,
   "id": "bb7a37d5-ae65-4a11-ae55-81c39e21f2ea",
   "metadata": {},
   "outputs": [],
   "source": [
    "import pandas as pd\n",
    "import numpy as np"
   ]
  },
  {
   "cell_type": "code",
   "execution_count": 7,
   "id": "5d9a7ca9-957f-4791-9003-ad64be87f751",
   "metadata": {},
   "outputs": [
    {
     "data": {
      "text/plain": [
       "Index(['Index', 'Longitude', 'Latitude', 'Accident_Severity', 'Day_of_Week',\n",
       "       '1st_Road_Class', '1st_Road_Number', 'Road_Type', 'Speed_limit',\n",
       "       '2nd_Road_Class', '2nd_Road_Number', 'Light_Conditions',\n",
       "       'Weather_Conditions', 'Road_Surface_Conditions', 'Urban_or_Rural_Area',\n",
       "       'Year', 'Hour', 'Day_of_Year', 'Cluster_1', 'Vehicle_Type',\n",
       "       'Towing_and_Articulation', 'Vehicle_Manoeuvre',\n",
       "       'Vehicle_Location-Restricted_Lane', 'Junction_Location',\n",
       "       'Skidding_and_Overturning', 'Hit_Object_in_Carriageway',\n",
       "       'Vehicle_Leaving_Carriageway', 'Hit_Object_off_Carriageway',\n",
       "       '1st_Point_of_Impact', 'Was_Vehicle_Left_Hand_Drive?',\n",
       "       'Journey_Purpose_of_Driver', 'Sex_of_Driver', 'Age_of_Driver',\n",
       "       'Age_Band_of_Driver', 'Engine_Capacity_(CC)', 'Propulsion_Code',\n",
       "       'Age_of_Vehicle', 'Driver_IMD_Decile', 'Driver_Home_Area_Type'],\n",
       "      dtype='object')"
      ]
     },
     "execution_count": 7,
     "metadata": {},
     "output_type": "execute_result"
    }
   ],
   "source": [
    "accident_data_with_vehicle_data = pd.read_csv(\"../../data/accident_data_with_vehicle_data.csv\",low_memory=True)\n",
    "df = accident_data_with_vehicle_data\n",
    "df.columns"
   ]
  },
  {
   "cell_type": "code",
   "execution_count": 10,
   "id": "37951f3f-fe08-4c90-ac6d-639beed3cc5f",
   "metadata": {},
   "outputs": [
    {
     "data": {
      "text/plain": [
       "Index(['Index', 'Longitude', 'Latitude', 'Accident_Severity', 'Day_of_Week',\n",
       "       'Road_Type', 'Speed_limit', 'Road_Surface_Conditions',\n",
       "       'Urban_or_Rural_Area', 'Year', 'Hour', 'Day_of_Year', 'Cluster_1',\n",
       "       'Vehicle_Type', 'Sex_of_Driver', 'Age_of_Driver',\n",
       "       'Engine_Capacity_(CC)', 'Age_of_Vehicle', 'Driver_Home_Area_Type'],\n",
       "      dtype='object')"
      ]
     },
     "execution_count": 10,
     "metadata": {},
     "output_type": "execute_result"
    }
   ],
   "source": [
    "# remove redundent/unneccessary columns\n",
    "df = df.drop(['1st_Road_Class','1st_Road_Number','2nd_Road_Class','2nd_Road_Number','Light_Conditions','Weather_Conditions',\n",
    "              'Towing_and_Articulation','Vehicle_Manoeuvre','Vehicle_Location-Restricted_Lane',\n",
    "              'Junction_Location','Skidding_and_Overturning','Hit_Object_in_Carriageway',\n",
    "              'Vehicle_Leaving_Carriageway','Hit_Object_off_Carriageway','1st_Point_of_Impact',\n",
    "              'Was_Vehicle_Left_Hand_Drive?','Journey_Purpose_of_Driver','Driver_IMD_Decile','Propulsion_Code','Age_Band_of_Driver'],axis=1) \n",
    "df.columns"
   ]
  },
  {
   "cell_type": "code",
   "execution_count": 11,
   "id": "74b1069f-3faa-4d82-b055-9129583a96cf",
   "metadata": {},
   "outputs": [],
   "source": [
    "# for col in ['Accident_Severity','Weather_Conditions','Road_Surface_Conditions', 'Urban_or_Rural_Area','Vehicle_Type', 'Sex_of_Driver',\n",
    "#        'Age_of_Driver', 'Engine_Capacity_(CC)', 'Age_of_Vehicle',\n",
    "#        'Driver_Home_Area_Type']:\n",
    "#     print(col)\n",
    "#     print(df[col].value_counts().to_dict())\n",
    "#     print('--------------------------------------------')\n",
    "\n",
    "df = df[df['Vehicle_Type']!=-1]\n",
    "df = df[df['Sex_of_Driver'] != -1]\n",
    "df = df[df['Sex_of_Driver'] != 3]\n",
    "df = df[df['Age_of_Driver'] != -1]"
   ]
  },
  {
   "cell_type": "code",
   "execution_count": 12,
   "id": "5fb500d4-299b-4cea-a9f1-95d9bd5aecc3",
   "metadata": {},
   "outputs": [
    {
     "data": {
      "text/plain": [
       "(684637, 19)"
      ]
     },
     "execution_count": 12,
     "metadata": {},
     "output_type": "execute_result"
    }
   ],
   "source": [
    "df.shape"
   ]
  },
  {
   "cell_type": "code",
   "execution_count": 13,
   "id": "c3728330-fd36-48fc-afcb-ff6b58532f3c",
   "metadata": {},
   "outputs": [
    {
     "data": {
      "text/plain": [
       "Index(['Index', 'Longitude', 'Latitude', 'Accident_Severity', 'Day_of_Week',\n",
       "       'Road_Type', 'Speed_limit', 'Road_Surface_Conditions',\n",
       "       'Urban_or_Rural_Area', 'Year', 'Hour', 'Day_of_Year', 'Cluster_1',\n",
       "       'Vehicle_Type', 'Sex_of_Driver', 'Age_of_Driver',\n",
       "       'Engine_Capacity_(CC)', 'Age_of_Vehicle', 'Driver_Home_Area_Type'],\n",
       "      dtype='object')"
      ]
     },
     "execution_count": 13,
     "metadata": {},
     "output_type": "execute_result"
    }
   ],
   "source": [
    "df.columns"
   ]
  },
  {
   "cell_type": "code",
   "execution_count": 14,
   "id": "39c0255a-59d3-4dd3-a798-2539a94881e5",
   "metadata": {},
   "outputs": [],
   "source": [
    "df.to_csv(\"../../data/accident_data_with_vehicle_data_futher_cleanedd.csv\")"
   ]
  }
 ],
 "metadata": {
  "kernelspec": {
   "display_name": "Python 3",
   "language": "python",
   "name": "python3"
  },
  "language_info": {
   "codemirror_mode": {
    "name": "ipython",
    "version": 3
   },
   "file_extension": ".py",
   "mimetype": "text/x-python",
   "name": "python",
   "nbconvert_exporter": "python",
   "pygments_lexer": "ipython3",
   "version": "3.8.5"
  }
 },
 "nbformat": 4,
 "nbformat_minor": 5
}
